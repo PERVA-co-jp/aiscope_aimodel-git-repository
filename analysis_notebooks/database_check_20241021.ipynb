{
 "cells": [
  {
   "cell_type": "code",
   "execution_count": 1,
   "id": "3ae81066-bd29-45fb-ac81-d93cc41327d8",
   "metadata": {},
   "outputs": [
    {
     "name": "stderr",
     "output_type": "stream",
     "text": [
      "2024-11-07 00:33:08,767| ERROR   | Password is required for key C:\\Users\\yshim/.ssh\\id_rsa\n"
     ]
    },
    {
     "name": "stdout",
     "output_type": "stream",
     "text": [
      "SSHトンネルが 58430 にバインドされました。\n"
     ]
    }
   ],
   "source": [
    "import os\n",
    "os.chdir(\"..\")\n",
    "\n",
    "from src.data_loader import DatabaseConnection\n",
    "\n",
    "db_connection = DatabaseConnection(\n",
    "    ssh_host='162.43.30.233',\n",
    "    ssh_port=22,\n",
    "    ssh_user='root',\n",
    "    ssh_pkey='analysis_notebooks/mikata.ppk', \n",
    "    db_host='127.0.0.1',\n",
    "    db_port=3306,\n",
    "    db_user='aiscope',\n",
    "    db_password='Root@123',\n",
    "    db_name='ps_scope'\n",
    ")\n",
    "\n",
    "db_connection.start_tunnel()"
   ]
  },
  {
   "cell_type": "code",
   "execution_count": 2,
   "id": "efd01881-2052-4cb0-911c-f080f7245d3a",
   "metadata": {},
   "outputs": [
    {
     "name": "stdout",
     "output_type": "stream",
     "text": [
      "         Tables_in_ps_scope\n",
      "0           modelevaluation\n",
      "1       re_compare_machines\n",
      "2          re_compare_seach\n",
      "3         re_frame_relation\n",
      "4                 re_frames\n",
      "5               re_machines\n",
      "6                  re_maker\n",
      "7          re_model_results\n",
      "8          re_pachinko_type\n",
      "9   re_pachinko_type_detail\n",
      "10             re_slot_spec\n"
     ]
    }
   ],
   "source": [
    "query = \"SHOW TABLES\"\n",
    "print(db_connection.execute_query(query))"
   ]
  },
  {
   "cell_type": "code",
   "execution_count": 3,
   "id": "ff1a5f26-5b55-4c99-9090-9ddad4655355",
   "metadata": {},
   "outputs": [],
   "source": [
    "df_modelevaluation = db_connection.execute_query(\"select * from modelevaluation\")\n",
    "df_re_frame_relation = db_connection.execute_query(\"select * from re_frame_relation\")\n",
    "df_re_frames = db_connection.execute_query(\"select * from re_frames\")\n",
    "df_remachines = db_connection.execute_query(\"select * from re_machines\")\n",
    "df_re_model_results = db_connection.execute_query(\"select * from re_model_results\")\n",
    "df_re_pachinko_type = db_connection.execute_query(\"select * from re_pachinko_type\")\n",
    "df_re_pachinko_type_detail = db_connection.execute_query(\"select * from re_pachinko_type_detail\")\n",
    "df_re_slot_spec = db_connection.execute_query(\"select * from re_slot_spec\")\n",
    "#df_user_store_data = db_connection.execute_query(\"select * from user_store_data\")"
   ]
  },
  {
   "cell_type": "code",
   "execution_count": 7,
   "id": "b4c12a22-58bf-4088-ad59-a9066af005eb",
   "metadata": {
    "scrolled": true
   },
   "outputs": [
    {
     "data": {
      "text/html": [
       "<div>\n",
       "<style scoped>\n",
       "    .dataframe tbody tr th:only-of-type {\n",
       "        vertical-align: middle;\n",
       "    }\n",
       "\n",
       "    .dataframe tbody tr th {\n",
       "        vertical-align: top;\n",
       "    }\n",
       "\n",
       "    .dataframe thead th {\n",
       "        text-align: right;\n",
       "    }\n",
       "</style>\n",
       "<table border=\"1\" class=\"dataframe\">\n",
       "  <thead>\n",
       "    <tr style=\"text-align: right;\">\n",
       "      <th></th>\n",
       "      <th>KatashikiId</th>\n",
       "      <th>created_at</th>\n",
       "      <th>MachineCategory</th>\n",
       "    </tr>\n",
       "  </thead>\n",
       "  <tbody>\n",
       "    <tr>\n",
       "      <th>4449</th>\n",
       "      <td>P2024110512432401</td>\n",
       "      <td>2024-11-05 12:43:24</td>\n",
       "      <td>0</td>\n",
       "    </tr>\n",
       "    <tr>\n",
       "      <th>4448</th>\n",
       "      <td>P2024110510201801</td>\n",
       "      <td>2024-11-05 10:20:18</td>\n",
       "      <td>0</td>\n",
       "    </tr>\n",
       "    <tr>\n",
       "      <th>4447</th>\n",
       "      <td>P2024110510192201</td>\n",
       "      <td>2024-11-05 10:19:22</td>\n",
       "      <td>0</td>\n",
       "    </tr>\n",
       "    <tr>\n",
       "      <th>4446</th>\n",
       "      <td>S2024103009160301</td>\n",
       "      <td>2024-10-30 09:16:03</td>\n",
       "      <td>1</td>\n",
       "    </tr>\n",
       "    <tr>\n",
       "      <th>3204</th>\n",
       "      <td>P2024102917163301</td>\n",
       "      <td>2024-10-29 17:16:33</td>\n",
       "      <td>0</td>\n",
       "    </tr>\n",
       "    <tr>\n",
       "      <th>...</th>\n",
       "      <td>...</td>\n",
       "      <td>...</td>\n",
       "      <td>...</td>\n",
       "    </tr>\n",
       "    <tr>\n",
       "      <th>4</th>\n",
       "      <td>P2015030101111501</td>\n",
       "      <td>2015-03-01 01:11:16</td>\n",
       "      <td>0</td>\n",
       "    </tr>\n",
       "    <tr>\n",
       "      <th>3</th>\n",
       "      <td>P2015030101104301</td>\n",
       "      <td>2015-03-01 01:10:44</td>\n",
       "      <td>0</td>\n",
       "    </tr>\n",
       "    <tr>\n",
       "      <th>2</th>\n",
       "      <td>P2015030101101701</td>\n",
       "      <td>2015-03-01 01:10:17</td>\n",
       "      <td>0</td>\n",
       "    </tr>\n",
       "    <tr>\n",
       "      <th>1</th>\n",
       "      <td>P2015030101095001</td>\n",
       "      <td>2015-03-01 01:09:50</td>\n",
       "      <td>0</td>\n",
       "    </tr>\n",
       "    <tr>\n",
       "      <th>0</th>\n",
       "      <td>P2015030101082501</td>\n",
       "      <td>2015-03-01 01:08:26</td>\n",
       "      <td>0</td>\n",
       "    </tr>\n",
       "  </tbody>\n",
       "</table>\n",
       "<p>4450 rows × 3 columns</p>\n",
       "</div>"
      ],
      "text/plain": [
       "            KatashikiId          created_at  MachineCategory\n",
       "4449  P2024110512432401 2024-11-05 12:43:24                0\n",
       "4448  P2024110510201801 2024-11-05 10:20:18                0\n",
       "4447  P2024110510192201 2024-11-05 10:19:22                0\n",
       "4446  S2024103009160301 2024-10-30 09:16:03                1\n",
       "3204  P2024102917163301 2024-10-29 17:16:33                0\n",
       "...                 ...                 ...              ...\n",
       "4     P2015030101111501 2015-03-01 01:11:16                0\n",
       "3     P2015030101104301 2015-03-01 01:10:44                0\n",
       "2     P2015030101101701 2015-03-01 01:10:17                0\n",
       "1     P2015030101095001 2015-03-01 01:09:50                0\n",
       "0     P2015030101082501 2015-03-01 01:08:26                0\n",
       "\n",
       "[4450 rows x 3 columns]"
      ]
     },
     "execution_count": 7,
     "metadata": {},
     "output_type": "execute_result"
    }
   ],
   "source": [
    "import pandas as pd\n",
    "df_remachines['created_at'] = pd.to_datetime(df_remachines['created_at'])\n",
    "df_remachines = df_remachines.sort_values(by='created_at', ascending=False)\n",
    "df_remachines[['KatashikiId', 'created_at', 'MachineCategory']]"
   ]
  },
  {
   "cell_type": "code",
   "execution_count": 4,
   "id": "406c6ab9-b1db-4bc6-a574-281997d7bc76",
   "metadata": {},
   "outputs": [
    {
     "data": {
      "text/plain": [
       "4"
      ]
     },
     "execution_count": 4,
     "metadata": {},
     "output_type": "execute_result"
    }
   ],
   "source": [
    "katashiki_ids = [\n",
    "\"S2018030816143901\",\n",
    "\"S2018030816125301\",\n",
    "\"S2018030816111601\",\n",
    "\"S2018030816001101\"\n",
    "]\n",
    "len(df_remachines[df_remachines['KatashikiId'].isin(katashiki_ids)])"
   ]
  },
  {
   "cell_type": "code",
   "execution_count": 7,
   "id": "e5006092-37e9-4e5d-a2fc-e3b396008fac",
   "metadata": {},
   "outputs": [
    {
     "data": {
      "text/html": [
       "<div>\n",
       "<style scoped>\n",
       "    .dataframe tbody tr th:only-of-type {\n",
       "        vertical-align: middle;\n",
       "    }\n",
       "\n",
       "    .dataframe tbody tr th {\n",
       "        vertical-align: top;\n",
       "    }\n",
       "\n",
       "    .dataframe thead th {\n",
       "        text-align: right;\n",
       "    }\n",
       "</style>\n",
       "<table border=\"1\" class=\"dataframe\">\n",
       "  <thead>\n",
       "    <tr style=\"text-align: right;\">\n",
       "      <th></th>\n",
       "      <th>KatashikiId</th>\n",
       "      <th>created_at</th>\n",
       "    </tr>\n",
       "  </thead>\n",
       "  <tbody>\n",
       "    <tr>\n",
       "      <th>3969</th>\n",
       "      <td>S2018030816001101</td>\n",
       "      <td>2018-03-08 16:00:11</td>\n",
       "    </tr>\n",
       "    <tr>\n",
       "      <th>3970</th>\n",
       "      <td>S2018030816111601</td>\n",
       "      <td>2018-03-08 16:11:16</td>\n",
       "    </tr>\n",
       "    <tr>\n",
       "      <th>3971</th>\n",
       "      <td>S2018030816125301</td>\n",
       "      <td>2018-03-08 16:12:53</td>\n",
       "    </tr>\n",
       "    <tr>\n",
       "      <th>3972</th>\n",
       "      <td>S2018030816143901</td>\n",
       "      <td>2018-03-08 16:14:39</td>\n",
       "    </tr>\n",
       "  </tbody>\n",
       "</table>\n",
       "</div>"
      ],
      "text/plain": [
       "            KatashikiId          created_at\n",
       "3969  S2018030816001101 2018-03-08 16:00:11\n",
       "3970  S2018030816111601 2018-03-08 16:11:16\n",
       "3971  S2018030816125301 2018-03-08 16:12:53\n",
       "3972  S2018030816143901 2018-03-08 16:14:39"
      ]
     },
     "execution_count": 7,
     "metadata": {},
     "output_type": "execute_result"
    }
   ],
   "source": [
    "df_remachines[df_remachines['KatashikiId'].isin(katashiki_ids)][['KatashikiId', 'created_at']]"
   ]
  },
  {
   "cell_type": "code",
   "execution_count": 8,
   "id": "899ea95b-8a91-4b5e-98e2-85635a80314e",
   "metadata": {},
   "outputs": [
    {
     "data": {
      "text/html": [
       "<div>\n",
       "<style scoped>\n",
       "    .dataframe tbody tr th:only-of-type {\n",
       "        vertical-align: middle;\n",
       "    }\n",
       "\n",
       "    .dataframe tbody tr th {\n",
       "        vertical-align: top;\n",
       "    }\n",
       "\n",
       "    .dataframe thead th {\n",
       "        text-align: right;\n",
       "    }\n",
       "</style>\n",
       "<table border=\"1\" class=\"dataframe\">\n",
       "  <thead>\n",
       "    <tr style=\"text-align: right;\">\n",
       "      <th></th>\n",
       "      <th>KatashikiId</th>\n",
       "      <th>created_at</th>\n",
       "    </tr>\n",
       "  </thead>\n",
       "  <tbody>\n",
       "    <tr>\n",
       "      <th>2466</th>\n",
       "      <td>P2020032013405101</td>\n",
       "      <td>2020-03-20 13:40:51</td>\n",
       "    </tr>\n",
       "    <tr>\n",
       "      <th>3970</th>\n",
       "      <td>S2018030816111601</td>\n",
       "      <td>2018-03-08 16:11:16</td>\n",
       "    </tr>\n",
       "    <tr>\n",
       "      <th>3971</th>\n",
       "      <td>S2018030816125301</td>\n",
       "      <td>2018-03-08 16:12:53</td>\n",
       "    </tr>\n",
       "    <tr>\n",
       "      <th>3972</th>\n",
       "      <td>S2018030816143901</td>\n",
       "      <td>2018-03-08 16:14:39</td>\n",
       "    </tr>\n",
       "  </tbody>\n",
       "</table>\n",
       "</div>"
      ],
      "text/plain": [
       "            KatashikiId          created_at\n",
       "2466  P2020032013405101 2020-03-20 13:40:51\n",
       "3970  S2018030816111601 2018-03-08 16:11:16\n",
       "3971  S2018030816125301 2018-03-08 16:12:53\n",
       "3972  S2018030816143901 2018-03-08 16:14:39"
      ]
     },
     "execution_count": 8,
     "metadata": {},
     "output_type": "execute_result"
    }
   ],
   "source": [
    "katashiki_ids = [\n",
    "\"S2018030816143901\",\n",
    "\"S2018030816125301\",\n",
    "\"S2018030816111601\",\n",
    "\"P2020032013405101\"]\n",
    "df_remachines[df_remachines['KatashikiId'].isin(katashiki_ids)][['KatashikiId', 'created_at']]"
   ]
  },
  {
   "cell_type": "code",
   "execution_count": 4,
   "id": "88ead248-6865-4c1e-bb67-675d231d24f5",
   "metadata": {},
   "outputs": [
    {
     "name": "stdout",
     "output_type": "stream",
     "text": [
      "['id', 'KatashikiId', 'GrossProfit', 'Concept', 'Performance', 'Content', 'SaleUnit', 'Spec', 'Period', 'News', 'Running', 'Returns', 'Price', 'ContributionExpected', 'created_at', 'updated_at']\n",
      "['id', 'frameId', 'KatashikiId', 'created_at', 'updated_at']\n",
      "['id', 'Name', 'Color', 'makerId', 'ImagePath', 'Kind', 'SortNo', 'created_at', 'updated_at']\n",
      "['id', 'KatashikiId', 'makerId', 'pachinkoTypeId', 'pachinkoTypeDetailId', 'slotSpecId', 'ImagePath', 'Name', 'MachineCategory', 'Price', 'PriceDetail', 'SaleUnit', 'SaleUnitOther', 'BigRate', 'SmallRate', 'WinBallCount', 'Hold', 'PayCount', 'KakuhenRate1_1', 'KakuhenRate1_2', 'KakuhenRate1_3', 'KakuhenRate2', 'KakuhenRate3', 'Jitan', 'TamaUnitPrice', 'EquivalentBranch', 'MovieUrl1', 'MovieUrl2', 'InspectDate', 'HyoukaKatashikiId', 'GrossProfit', 'ReleaseDate', 'BonusLabel1', 'BonusLabel2', 'BonusLabel3', 'BonusLabel4', 'BonusLabel5', 'BonusValue1_1', 'BonusValue1_2', 'BonusValue1_3', 'BonusValue1_4', 'BonusValue1_5', 'BonusValue2_1', 'BonusValue2_2', 'BonusValue2_3', 'BonusValue2_4', 'BonusValue2_5', 'BonusValue3_1', 'BonusValue3_2', 'BonusValue3_3', 'BonusValue3_4', 'BonusValue3_5', 'BonusValue4_1', 'BonusValue4_2', 'BonusValue4_3', 'BonusValue4_4', 'BonusValue4_5', 'BonusValue5_1', 'BonusValue5_2', 'BonusValue5_3', 'BonusValue5_4', 'BonusValue5_5', 'BonusValue6_1', 'BonusValue6_2', 'BonusValue6_3', 'BonusValue6_4', 'BonusValue6_5', 'CoinUnit', 'SpecDetail1', 'SpecDetail2', 'GameUnit', 'BonusDetail', 'Comment_1', 'DateComment_1', 'Star_1', 'Comment_2', 'DateComment_2', 'Star_2', 'Comment_3', 'DateComment_3', 'Star_3', 'BonusFlag6_5', 'BonusFlag6_4', 'BonusFlag6_3', 'BonusFlag6_2', 'BonusFlag6_1', 'BonusFlag5_5', 'BonusFlag5_4', 'BonusFlag5_3', 'BonusFlag5_2', 'BonusFlag5_1', 'BonusFlag4_5', 'BonusFlag4_4', 'BonusFlag4_3', 'BonusFlag4_2', 'BonusFlag4_1', 'BonusFlag3_5', 'BonusFlag3_4', 'BonusFlag3_3', 'BonusFlag3_2', 'BonusFlag3_1', 'BonusFlag2_5', 'BonusFlag2_4', 'BonusFlag2_3', 'BonusFlag2_2', 'BonusFlag2_1', 'BonusFlag1_5', 'BonusFlag1_4', 'BonusFlag1_3', 'BonusFlag1_2', 'BonusFlag1_1', 'InspectFlag', 'TenjiFlag', 'NairanFlag', 'PayCountAve', 'ContinueCountAve', 'created_at', 'updated_at', 'ModelLife']\n",
      "['id', 'KatashikiId', 'GrossProfit', 'Concept', 'Performance', 'Content', 'SaleUnit', 'Spec', 'Period', 'News', 'Running', 'Returns', 'Price', 'created_at', 'updated_at', 'ModelLife']\n",
      "['id', 'TypeName', 'created_at', 'updated_at']\n",
      "['id', 'TypeName', 'created_at', 'updated_at']\n",
      "['id', 'SpecName', 'created_at', 'updated_at']\n"
     ]
    }
   ],
   "source": [
    "for df in [df_modelevaluation, df_re_frame_relation, df_re_frames, df_remachines, df_re_model_results,\n",
    "           df_re_pachinko_type, df_re_pachinko_type_detail, df_re_slot_spec]:\n",
    "    \n",
    "    print(df.columns.tolist())"
   ]
  },
  {
   "cell_type": "code",
   "execution_count": 5,
   "id": "c7b9cf11-f588-4ef6-971b-8e5cbbf0b48d",
   "metadata": {},
   "outputs": [
    {
     "data": {
      "text/plain": [
       "count    4447.000000\n",
       "mean       12.107263\n",
       "std        37.241373\n",
       "min         0.000000\n",
       "25%         0.000000\n",
       "50%         5.000000\n",
       "75%         9.000000\n",
       "max       405.000000\n",
       "Name: ModelLife, dtype: float64"
      ]
     },
     "execution_count": 5,
     "metadata": {},
     "output_type": "execute_result"
    }
   ],
   "source": [
    "df_remachines['ModelLife'].describe()"
   ]
  },
  {
   "cell_type": "code",
   "execution_count": 9,
   "id": "a0ff951c-8e17-43e2-b6df-a41287316cac",
   "metadata": {},
   "outputs": [
    {
     "data": {
      "text/plain": [
       "0"
      ]
     },
     "execution_count": 9,
     "metadata": {},
     "output_type": "execute_result"
    }
   ],
   "source": [
    "len(df_remachines[df_remachines['ModelLife'].isnull()])"
   ]
  },
  {
   "cell_type": "code",
   "execution_count": 10,
   "id": "fe5ed2b9-5f0f-44ef-b43e-0cb71295db57",
   "metadata": {},
   "outputs": [
    {
     "data": {
      "text/plain": [
       "988"
      ]
     },
     "execution_count": 10,
     "metadata": {},
     "output_type": "execute_result"
    },
    {
     "name": "stderr",
     "output_type": "stream",
     "text": [
      "2024-10-30 17:58:53,031| ERROR   | Socket exception: 既存の接続はリモート ホストに強制的に切断されました。 (10054)\n"
     ]
    }
   ],
   "source": [
    "len(df_remachines[df_remachines['GrossProfit'].isnull()])"
   ]
  },
  {
   "cell_type": "code",
   "execution_count": 6,
   "id": "2f0510c4-d292-4503-83df-5a6f620ad35c",
   "metadata": {
    "scrolled": true
   },
   "outputs": [
    {
     "data": {
      "text/plain": [
       "count    8.000000\n",
       "mean     1.593750\n",
       "std      0.999442\n",
       "min      0.000000\n",
       "25%      0.875000\n",
       "50%      2.000000\n",
       "75%      2.062500\n",
       "max      3.000000\n",
       "Name: Price, dtype: float64"
      ]
     },
     "execution_count": 6,
     "metadata": {},
     "output_type": "execute_result"
    }
   ],
   "source": [
    "df_modelevaluation['Price'].describe()"
   ]
  },
  {
   "cell_type": "code",
   "execution_count": 6,
   "id": "187987a8-1cef-44d5-b49e-ae371e850d8f",
   "metadata": {
    "scrolled": true
   },
   "outputs": [
    {
     "data": {
      "text/plain": [
       "0.0"
      ]
     },
     "execution_count": 6,
     "metadata": {},
     "output_type": "execute_result"
    }
   ],
   "source": [
    "len(df_modelevaluation[df_modelevaluation['Price'].isnull()]) / len(df_modelevaluation['Price'])"
   ]
  },
  {
   "cell_type": "code",
   "execution_count": 7,
   "id": "0048784e-a8e0-4365-b857-bd47c11ab5fb",
   "metadata": {},
   "outputs": [
    {
     "data": {
      "text/plain": [
       "1466"
      ]
     },
     "execution_count": 7,
     "metadata": {},
     "output_type": "execute_result"
    }
   ],
   "source": [
    "len(df_modelevaluation['Price'])"
   ]
  },
  {
   "cell_type": "code",
   "execution_count": 8,
   "id": "31fd8c0d-0ae0-4228-aac5-65d112d66f5c",
   "metadata": {},
   "outputs": [
    {
     "data": {
      "text/plain": [
       "0"
      ]
     },
     "execution_count": 8,
     "metadata": {},
     "output_type": "execute_result"
    }
   ],
   "source": [
    "len(df_modelevaluation[df_modelevaluation['Price'].isnull()])"
   ]
  },
  {
   "cell_type": "code",
   "execution_count": 1,
   "id": "d1aff75b-97b9-4bd5-8cf5-897d3b99ed16",
   "metadata": {},
   "outputs": [],
   "source": [
    "import os\n",
    "os.chdir(\"..\")\n",
    "\n",
    "from src.data_loader import DatabaseConnection"
   ]
  },
  {
   "cell_type": "code",
   "execution_count": 2,
   "id": "0c724bc0-5ccd-4d18-beea-380b8f35b209",
   "metadata": {
    "scrolled": true
   },
   "outputs": [
    {
     "name": "stderr",
     "output_type": "stream",
     "text": [
      "2024-10-30 19:47:03,435| ERROR   | Password is required for key C:\\Users\\yshim/.ssh\\id_rsa\n"
     ]
    },
    {
     "name": "stdout",
     "output_type": "stream",
     "text": [
      "SSHトンネルが 61644 にバインドされました。\n"
     ]
    }
   ],
   "source": [
    "db_dev_connection = DatabaseConnection(\n",
    "                        ssh_host='www.redesign777.tokyo',\n",
    "                        ssh_port=22,\n",
    "                        ssh_user='rddev',\n",
    "                        ssh_password='rdDev@20240521',\n",
    "                        db_host='localhost',\n",
    "                        db_port=3306,\n",
    "                        db_user='rddev',\n",
    "                        db_password='rdSql@20240521',\n",
    "                        db_name='redesign')\n",
    "\n",
    "db_dev_connection.start_tunnel()"
   ]
  },
  {
   "cell_type": "code",
   "execution_count": 3,
   "id": "9707993b-5a1e-407c-b0f1-6c1fb502f044",
   "metadata": {},
   "outputs": [
    {
     "name": "stdout",
     "output_type": "stream",
     "text": [
      "              Tables_in_redesign\n",
      "0               re_m_coefficient\n",
      "1                     re_m_frame\n",
      "2                 re_m_katashiki\n",
      "3   re_m_katashikidetailpachinko\n",
      "4       re_m_katashikidetailslot\n",
      "5    re_m_katashikiframerelation\n",
      "6              re_m_labele_atari\n",
      "7                     re_m_maker\n",
      "8           re_m_modelevaluation\n",
      "9              re_m_pachinkotype\n",
      "10       re_m_pachinkotypedetail\n",
      "11                 re_m_slotspec\n"
     ]
    }
   ],
   "source": [
    "query = \"SHOW TABLES\"\n",
    "print(db_dev_connection.execute_query(query))"
   ]
  },
  {
   "cell_type": "code",
   "execution_count": null,
   "id": "5362b240-9554-42a1-81f4-7491ef0aafe9",
   "metadata": {},
   "outputs": [],
   "source": []
  }
 ],
 "metadata": {
  "kernelspec": {
   "display_name": "Python 3 (ipykernel)",
   "language": "python",
   "name": "python3"
  },
  "language_info": {
   "codemirror_mode": {
    "name": "ipython",
    "version": 3
   },
   "file_extension": ".py",
   "mimetype": "text/x-python",
   "name": "python",
   "nbconvert_exporter": "python",
   "pygments_lexer": "ipython3",
   "version": "3.11.0rc1"
  }
 },
 "nbformat": 4,
 "nbformat_minor": 5
}
