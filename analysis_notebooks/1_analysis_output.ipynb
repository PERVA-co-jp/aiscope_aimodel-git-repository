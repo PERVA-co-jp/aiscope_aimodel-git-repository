{
 "cells": [
  {
   "cell_type": "code",
   "execution_count": 1,
   "id": "a68154d1-5261-441c-a3cd-74b8d2e4dc55",
   "metadata": {},
   "outputs": [],
   "source": [
    "from src.data_loader import DatabaseConnection"
   ]
  },
  {
   "cell_type": "code",
   "execution_count": 2,
   "id": "bf9ea5bd-b768-416a-986c-e365c89efa31",
   "metadata": {},
   "outputs": [
    {
     "name": "stderr",
     "output_type": "stream",
     "text": [
      "2024-08-08 10:36:04,884| ERROR   | Password is required for key C:\\Users\\yshim/.ssh\\id_rsa\n"
     ]
    },
    {
     "name": "stdout",
     "output_type": "stream",
     "text": [
      "SSHトンネルが 58058 にバインドされました。\n"
     ]
    }
   ],
   "source": [
    "db_connection = DatabaseConnection(\n",
    "    ssh_host='www.redesign777.tokyo',\n",
    "    ssh_port=22,\n",
    "    ssh_user='rddev',\n",
    "    ssh_password='rdDev@20240521',\n",
    "    db_host='localhost',\n",
    "    db_port=3306,\n",
    "    db_user='rddev',\n",
    "    db_password='rdSql@20240521',\n",
    "    db_name='redesign'\n",
    ")\n",
    "db_connection.start_tunnel()"
   ]
  },
  {
   "cell_type": "code",
   "execution_count": 3,
   "id": "772ef826-21ca-40d2-ae2c-5083ea4b0603",
   "metadata": {},
   "outputs": [
    {
     "name": "stdout",
     "output_type": "stream",
     "text": [
      "SSHトンネルを閉じました。\n"
     ]
    }
   ],
   "source": [
    "# クエリを実行\n",
    "df_frame = db_connection.execute_query(\"SELECT * FROM re_m_frame\")\n",
    "df_katashiki = db_connection.execute_query(\"SELECT * FROM re_m_katashiki\")\n",
    "df_pachinko = db_connection.execute_query(\"SELECT * FROM re_m_katashikidetailpachinko\")\n",
    "df_slot = db_connection.execute_query(\"SELECT * FROM re_m_katashikidetailslot\")\n",
    "df_katashiki_frame_relation = db_connection.execute_query(\"SELECT * FROM re_m_katashikiframerelation\")\n",
    "df_maker = db_connection.execute_query(\"SELECT * FROM re_m_maker\")\n",
    "df_model_evaluation = db_connection.execute_query(\"SELECT * FROM re_m_modelevaluation\")\n",
    "df_pachinko_type = db_connection.execute_query(\"SELECT * FROM re_m_pachinkotype\")\n",
    "df_pachinko_type_detail = db_connection.execute_query(\"SELECT * FROM re_m_pachinkotypedetail\")\n",
    "# SSHトンネルを閉じる\n",
    "db_connection.close_tunnel()"
   ]
  },
  {
   "cell_type": "code",
   "execution_count": 4,
   "id": "668e3404-487c-4958-81b1-4f6e68323398",
   "metadata": {},
   "outputs": [],
   "source": [
    "def get_actual_pred_abs_diff(df, en_jp_dict):\n",
    "    for target in targets:\n",
    "        df[en_jp_dict[target] + '_絶対差分'] = df[target] - df[target + '_pred']\n",
    "        df[en_jp_dict[target] + '_絶対差分'] = df[en_jp_dict[target] + '_絶対差分'].abs()\n",
    "    return df"
   ]
  },
  {
   "cell_type": "code",
   "execution_count": 5,
   "id": "5b93e1dd-0ddf-451a-87b6-b158fdfe3183",
   "metadata": {},
   "outputs": [],
   "source": [
    "from data_columns.en_jp_dictionary import *\n",
    "\n",
    "features_en_to_jp = {}\n",
    "features_en_to_jp.update(features_jp)\n",
    "features_en_to_jp.update(targets_jp)\n",
    "features_en_to_jp.update(targets_pred_jp)"
   ]
  },
  {
   "cell_type": "markdown",
   "id": "08fbc430-c5dc-4585-a617-3f2dff435dff",
   "metadata": {},
   "source": [
    "# 推論20231023～20240621"
   ]
  },
  {
   "cell_type": "code",
   "execution_count": 6,
   "id": "3775fc6d-c0c9-45ce-a04f-6a02273c24fc",
   "metadata": {},
   "outputs": [],
   "source": [
    "from src.data_preprocessing import data_preprocessing_operator\n",
    "import configparser\n",
    "\n",
    "config = configparser.ConfigParser()\n",
    "config.read('config.ini')\n",
    "\n",
    "# start_date :　抽出データ開始日\n",
    "# end_date : 抽出データ終了日\n",
    "# openai_api_key : openaiのAPIキー\n",
    "# use_existing_brand : 既存のブランドデータを使うかどうか\n",
    "# brand_output_path : 抽出したブランドリストを出力するパス\n",
    "\n",
    "data_model = data_preprocessing_operator(start_date=\"2020/01/01 00:00:00\",\n",
    "                                        end_date=\"2024/06/15 23:59:59\",\n",
    "                                        openai_api_key=config['openai']['api_key'],\n",
    "                                        use_existing_brand=True,\n",
    "                                        brand_output_path='brand_lists/brand_list_20200101_20240616.csv')\n",
    "\n",
    "existing_brand_path = 'brand_lists/brand_list_20200101_20240616.csv'\n",
    "\n",
    "df = data_model.process( \n",
    "                df_frame,\n",
    "                df_katashiki,\n",
    "                df_pachinko,\n",
    "                df_slot,\n",
    "                df_katashiki_frame_relation,\n",
    "                df_model_evaluation,\n",
    "                df_pachinko_type,\n",
    "                df_pachinko_type_detail, existing_brand_path)"
   ]
  },
  {
   "cell_type": "code",
   "execution_count": 7,
   "id": "ce91ea40-44c3-44c6-b1f6-ea2148741a8e",
   "metadata": {},
   "outputs": [
    {
     "name": "stdout",
     "output_type": "stream",
     "text": [
      "2023-10-23 18:37:01 2024-06-21 10:05:44\n"
     ]
    }
   ],
   "source": [
    "import pandas as pd\n",
    "from src.modeling import modeling\n",
    "from src.evaluation import evaluation\n",
    "\n",
    "cols = df.columns.tolist()\n",
    "\n",
    "targets = [\n",
    "     'Performance',\n",
    "     'Spec',\n",
    "     'Content',\n",
    "     'News',\n",
    "     'Concept',\n",
    "     'Period',\n",
    "     'SaleUnit_eval',\n",
    "     'Running',\n",
    "     'Returns',\n",
    "     'Price_eval']\n",
    "\n",
    "features = [col for col in cols if col not in targets + ['Name', 'ModelLife', 'GrossProfit', 'KatashikiId', 'Regist_Date', 'Color', 'TypeName', 'TypeName_detail', 'brand_name']]\n",
    "\n",
    "# 学習とテストデータの定義\n",
    "df_train = df[df['Regist_Date'] < df['Regist_Date'].min() + pd.DateOffset(days=365*4 - 90)]\n",
    "df_test = df[df['Regist_Date'] >= df['Regist_Date'].min() + pd.DateOffset(days=365*4 - 90)]\n",
    "print(df_test['Regist_Date'].min(), df_test['Regist_Date'].max())\n",
    "    \n",
    "# 学習開始\n",
    "modeling = modeling(features, targets)\n",
    "models, df_output = modeling.train_predict_all(df_train, df_test)\n",
    "\n",
    "df_output = get_actual_pred_abs_diff(df_output, features_en_to_jp)\n",
    "\n",
    "features_2 = [x for x in features if x not in ['KatashikiId', 'Price', 'Name', 'brand_name']]\n",
    "df_eval = pd.concat([df_test[['KatashikiId', 'Price', 'Name', 'brand_name']], df_output, df_test[features_2]], axis=1) \n",
    "\n",
    "df_eval = df_eval.rename(columns=features_en_to_jp)"
   ]
  },
  {
   "cell_type": "code",
   "execution_count": 8,
   "id": "192dbf1f-660d-4be6-8ed8-0c600b390b5f",
   "metadata": {
    "scrolled": true
   },
   "outputs": [],
   "source": [
    "df_eval = df_eval.rename(columns={'KatashikiId':'型式ID', 'Name': '型式名', 'brand_name':'ブランド名（型式名から抽出）'})"
   ]
  },
  {
   "cell_type": "code",
   "execution_count": 9,
   "id": "2142bffb-437f-4d6a-b229-316045d60f77",
   "metadata": {},
   "outputs": [],
   "source": [
    "df_eval.to_csv('output_analysis/実績値と予測値の比較_20231023_20240621.csv', index=False)"
   ]
  },
  {
   "cell_type": "markdown",
   "id": "60083864-41c3-4e1f-af29-24625095b8c2",
   "metadata": {},
   "source": [
    "# 推論20240622~20240806"
   ]
  },
  {
   "cell_type": "code",
   "execution_count": 10,
   "id": "7a85b922-1e25-4f4c-9057-1b351cdb0369",
   "metadata": {},
   "outputs": [],
   "source": [
    "############### 最新のデータを読み込む ###############\n",
    "from src.data_preprocessing import data_preprocessing_operator\n",
    "import configparser\n",
    "import pandas as pd\n",
    "config = configparser.ConfigParser()\n",
    "config.read('config.ini')\n",
    "\n",
    "# start_date :　抽出データ開始日\n",
    "# end_date : 抽出データ終了日\n",
    "# openai_api_key : openaiのAPIキー\n",
    "# use_existing_brand : 既存のブランドデータを使うかどうか\n",
    "# brand_output_path : 抽出したブランドリストを出力するパス\n",
    "\n",
    "data_model = data_preprocessing_operator(start_date=\"2020/01/01 00:00:00\",\n",
    "                                        end_date=\"2024/08/06 23:59:59\",\n",
    "                                        openai_api_key=config['openai']['api_key'],\n",
    "                                        use_existing_brand=True,\n",
    "                                        brand_output_path='brand_lists/brand_list_20200101_20240728.csv', # 新しいアウトプットパス\n",
    "                                        fit_categorical_values=False)\n",
    "\n",
    "existing_brand_path = 'brand_lists/brand_list_20200101_20240616.csv'\n",
    "\n",
    "df = data_model.process( \n",
    "                df_frame,\n",
    "                df_katashiki,\n",
    "                df_pachinko,\n",
    "                df_slot,\n",
    "                df_katashiki_frame_relation,\n",
    "                df_model_evaluation,\n",
    "                df_pachinko_type,\n",
    "                df_pachinko_type_detail, existing_brand_path)\n",
    "\n",
    "# ここで特定の日付以上にする\n",
    "df = df[df['Regist_Date'] >= \"2024/06/22 00:00:00\"]\n",
    "\n",
    "############### モデルの読み込み ###############\n",
    "# run_jobs.ipynbで保存したモデル\n",
    "folder = 'output_train/train20200117to20231017_test20231023to20240621'\n",
    "suffix = 'rf_default'\n",
    "import pickle\n",
    "with open(folder + '/model_'+suffix+'.pickle', 'rb') as handle:\n",
    "    models = pickle.load(handle)\n",
    "\n",
    "############### 推論　###############\n",
    "from src.modeling import modeling\n",
    "\n",
    "cols = df.columns.tolist()\n",
    "\n",
    "targets = [\n",
    "     'Performance',\n",
    "     'Spec',\n",
    "     'Content',\n",
    "     'News',\n",
    "     'Concept',\n",
    "     'Period',\n",
    "     'SaleUnit_eval',\n",
    "     'Running',\n",
    "     'Returns',\n",
    "     'Price_eval']\n",
    "\n",
    "features = [col for col in cols if col not in targets + ['Name', 'ModelLife', 'GrossProfit', 'KatashikiId', 'Regist_Date', 'Color', 'TypeName', 'TypeName_detail', 'brand_name']]\n",
    "\n",
    "modeling = modeling(features, targets)\n",
    "df_output = modeling.predict_all(models, df)\n",
    "\n",
    "df_output = get_actual_pred_abs_diff(df_output, features_en_to_jp)\n",
    "\n",
    "features_2 = [x for x in features if x not in ['KatashikiId', 'Price', 'Name', 'brand_name']]\n",
    "df_eval_2 = pd.concat([df[['KatashikiId', 'Price', 'Name', 'brand_name']], df_output, df[features_2]], axis=1) \n",
    "\n",
    "df_eval_2 = df_eval_2.rename(columns=features_en_to_jp)"
   ]
  },
  {
   "cell_type": "code",
   "execution_count": 11,
   "id": "9e15692d-a3e2-4353-8e9c-f37411b7ce22",
   "metadata": {},
   "outputs": [],
   "source": [
    "df_eval_2 = df_eval_2.rename(columns={'KatashikiId':'型式ID', 'Name': '型式名', 'brand_name':'ブランド名（型式名から抽出）'})"
   ]
  },
  {
   "cell_type": "code",
   "execution_count": 12,
   "id": "7952cb7d-5bb6-4b36-8fbb-a3a1df97086c",
   "metadata": {
    "scrolled": true
   },
   "outputs": [],
   "source": [
    "df_eval_2.to_csv('output_analysis/実績値と予測値の比較_20240622_20240806.csv', index=False)"
   ]
  },
  {
   "cell_type": "code",
   "execution_count": null,
   "id": "c9e7a68f-96d4-48c3-8241-29a24a4d322c",
   "metadata": {},
   "outputs": [],
   "source": []
  }
 ],
 "metadata": {
  "kernelspec": {
   "display_name": "Python 3 (ipykernel)",
   "language": "python",
   "name": "python3"
  },
  "language_info": {
   "codemirror_mode": {
    "name": "ipython",
    "version": 3
   },
   "file_extension": ".py",
   "mimetype": "text/x-python",
   "name": "python",
   "nbconvert_exporter": "python",
   "pygments_lexer": "ipython3",
   "version": "3.10.13"
  }
 },
 "nbformat": 4,
 "nbformat_minor": 5
}
